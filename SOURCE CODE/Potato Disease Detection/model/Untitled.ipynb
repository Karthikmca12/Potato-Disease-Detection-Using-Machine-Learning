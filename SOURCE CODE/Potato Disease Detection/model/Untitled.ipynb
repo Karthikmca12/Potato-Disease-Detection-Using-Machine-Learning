{
 "cells": [
  {
   "cell_type": "code",
   "execution_count": 1,
   "id": "8f1ff135",
   "metadata": {},
   "outputs": [],
   "source": [
    "import numpy as np # linear algebra\n",
    "import pandas as pd # data processing, CSV file I/O (e.g. pd.read_csv)\n",
    "\n",
    "import sys\n",
    "import os\n",
    "from keras.applications.vgg16 import VGG16\n",
    "import keras\n",
    "from numpy import load\n",
    "\n",
    "from sklearn.model_selection import train_test_split\n",
    "from keras import backend\n",
    "from keras.layers import Dense\n",
    "from keras.layers import Flatten\n",
    "from keras.models import Sequential\n",
    "from keras.layers import Conv2D,MaxPooling2D\n",
    "from keras.optimizers import SGD\n",
    "from keras.models import Model\n",
    "from keras.preprocessing.image import ImageDataGenerator\n",
    "from keras.preprocessing.image import load_img\n",
    "from keras.preprocessing.image import img_to_array\n",
    "from keras.layers import Dropout\n",
    "from keras.layers.normalization import BatchNormalization\n"
   ]
  },
  {
   "cell_type": "code",
   "execution_count": 2,
   "id": "ee006a57",
   "metadata": {},
   "outputs": [],
   "source": [
    "from tensorflow.keras.preprocessing.image import ImageDataGenerator\n",
    "import tensorflow as tf\n",
    "import os\n"
   ]
  },
  {
   "cell_type": "code",
   "execution_count": 3,
   "id": "660da85e",
   "metadata": {},
   "outputs": [],
   "source": [
    "train_dir='C:/Users/jpinf/Downloads/Potato Disease/Potato/Train'\n",
    "test_dir='C:/Users/jpinf/Downloads/Potato Disease/Potato/Test'"
   ]
  },
  {
   "cell_type": "code",
   "execution_count": 5,
   "id": "614d67c4",
   "metadata": {},
   "outputs": [],
   "source": [
    "batch_size = 2\n",
    "epochs = 6\n",
    "img_height = 224\n",
    "img_width = 224"
   ]
  },
  {
   "cell_type": "code",
   "execution_count": 6,
   "id": "75af0e1b",
   "metadata": {},
   "outputs": [
    {
     "name": "stdout",
     "output_type": "stream",
     "text": [
      "Found 1574 images belonging to 5 classes.\n"
     ]
    }
   ],
   "source": [
    "train_image_generator = ImageDataGenerator(rescale=1./255)  \n",
    "train_data_gen = train_image_generator.flow_from_directory(batch_size=batch_size,directory=train_dir,shuffle=True,target_size=(img_height, img_width),class_mode='categorical')"
   ]
  },
  {
   "cell_type": "code",
   "execution_count": 7,
   "id": "7e13816a",
   "metadata": {},
   "outputs": [
    {
     "name": "stdout",
     "output_type": "stream",
     "text": [
      "Found 737 images belonging to 5 classes.\n"
     ]
    }
   ],
   "source": [
    "val_image_generator = ImageDataGenerator(rescale=1./255)  \n",
    "val_data_gen = val_image_generator .flow_from_directory(batch_size=batch_size,directory=test_dir,shuffle=True,target_size=(img_height, img_width),class_mode='categorical')"
   ]
  },
  {
   "cell_type": "code",
   "execution_count": 8,
   "id": "426ec18e",
   "metadata": {},
   "outputs": [],
   "source": [
    " base_model = VGG16(weights = 'imagenet', include_top=False, input_shape=(img_width, img_height, 3))\n"
   ]
  },
  {
   "cell_type": "code",
   "execution_count": 9,
   "id": "467f9364",
   "metadata": {},
   "outputs": [],
   "source": [
    "base_model.trainable = False"
   ]
  },
  {
   "cell_type": "code",
   "execution_count": 10,
   "id": "c408ca39",
   "metadata": {},
   "outputs": [
    {
     "name": "stdout",
     "output_type": "stream",
     "text": [
      "Model: \"vgg16\"\n",
      "_________________________________________________________________\n",
      "Layer (type)                 Output Shape              Param #   \n",
      "=================================================================\n",
      "input_1 (InputLayer)         [(None, 224, 224, 3)]     0         \n",
      "_________________________________________________________________\n",
      "block1_conv1 (Conv2D)        (None, 224, 224, 64)      1792      \n",
      "_________________________________________________________________\n",
      "block1_conv2 (Conv2D)        (None, 224, 224, 64)      36928     \n",
      "_________________________________________________________________\n",
      "block1_pool (MaxPooling2D)   (None, 112, 112, 64)      0         \n",
      "_________________________________________________________________\n",
      "block2_conv1 (Conv2D)        (None, 112, 112, 128)     73856     \n",
      "_________________________________________________________________\n",
      "block2_conv2 (Conv2D)        (None, 112, 112, 128)     147584    \n",
      "_________________________________________________________________\n",
      "block2_pool (MaxPooling2D)   (None, 56, 56, 128)       0         \n",
      "_________________________________________________________________\n",
      "block3_conv1 (Conv2D)        (None, 56, 56, 256)       295168    \n",
      "_________________________________________________________________\n",
      "block3_conv2 (Conv2D)        (None, 56, 56, 256)       590080    \n",
      "_________________________________________________________________\n",
      "block3_conv3 (Conv2D)        (None, 56, 56, 256)       590080    \n",
      "_________________________________________________________________\n",
      "block3_pool (MaxPooling2D)   (None, 28, 28, 256)       0         \n",
      "_________________________________________________________________\n",
      "block4_conv1 (Conv2D)        (None, 28, 28, 512)       1180160   \n",
      "_________________________________________________________________\n",
      "block4_conv2 (Conv2D)        (None, 28, 28, 512)       2359808   \n",
      "_________________________________________________________________\n",
      "block4_conv3 (Conv2D)        (None, 28, 28, 512)       2359808   \n",
      "_________________________________________________________________\n",
      "block4_pool (MaxPooling2D)   (None, 14, 14, 512)       0         \n",
      "_________________________________________________________________\n",
      "block5_conv1 (Conv2D)        (None, 14, 14, 512)       2359808   \n",
      "_________________________________________________________________\n",
      "block5_conv2 (Conv2D)        (None, 14, 14, 512)       2359808   \n",
      "_________________________________________________________________\n",
      "block5_conv3 (Conv2D)        (None, 14, 14, 512)       2359808   \n",
      "_________________________________________________________________\n",
      "block5_pool (MaxPooling2D)   (None, 7, 7, 512)         0         \n",
      "=================================================================\n",
      "Total params: 14,714,688\n",
      "Trainable params: 0\n",
      "Non-trainable params: 14,714,688\n",
      "_________________________________________________________________\n"
     ]
    }
   ],
   "source": [
    "base_model.summary()"
   ]
  },
  {
   "cell_type": "code",
   "execution_count": 11,
   "id": "061b07ec",
   "metadata": {},
   "outputs": [
    {
     "name": "stdout",
     "output_type": "stream",
     "text": [
      "Model: \"sequential\"\n",
      "_________________________________________________________________\n",
      "Layer (type)                 Output Shape              Param #   \n",
      "=================================================================\n",
      "vgg16 (Functional)           (None, 7, 7, 512)         14714688  \n",
      "_________________________________________________________________\n",
      "flatten (Flatten)            (None, 25088)             0         \n",
      "_________________________________________________________________\n",
      "dense (Dense)                (None, 5)                 125445    \n",
      "=================================================================\n",
      "Total params: 14,840,133\n",
      "Trainable params: 125,445\n",
      "Non-trainable params: 14,714,688\n",
      "_________________________________________________________________\n"
     ]
    }
   ],
   "source": [
    "classifier=keras.models.Sequential()\n",
    "classifier.add(base_model)\n",
    "classifier.add(Flatten())\n",
    "classifier.add(Dense(5,activation='softmax'))\n",
    "classifier.summary()"
   ]
  },
  {
   "cell_type": "code",
   "execution_count": 12,
   "id": "4e1afd38",
   "metadata": {},
   "outputs": [],
   "source": [
    "classifier.compile(optimizer='adam',\n",
    "              loss='categorical_crossentropy',\n",
    "              metrics=['accuracy'])"
   ]
  },
  {
   "cell_type": "code",
   "execution_count": 13,
   "id": "17ce58b9",
   "metadata": {},
   "outputs": [
    {
     "name": "stdout",
     "output_type": "stream",
     "text": [
      "Epoch 1/10\n",
      "787/787 [==============================] - 315s 400ms/step - loss: 0.2189 - accuracy: 0.9504 - val_loss: 3.4590e-04 - val_accuracy: 1.0000\n",
      "Epoch 2/10\n",
      "787/787 [==============================] - 309s 393ms/step - loss: 2.3179e-04 - accuracy: 1.0000 - val_loss: 1.5943e-04 - val_accuracy: 1.0000\n",
      "Epoch 3/10\n",
      "787/787 [==============================] - 308s 391ms/step - loss: 1.2052e-04 - accuracy: 1.0000 - val_loss: 9.9038e-05 - val_accuracy: 1.0000\n",
      "Epoch 4/10\n",
      "787/787 [==============================] - 306s 388ms/step - loss: 7.5602e-05 - accuracy: 1.0000 - val_loss: 6.4214e-05 - val_accuracy: 1.0000\n",
      "Epoch 5/10\n",
      "787/787 [==============================] - 307s 390ms/step - loss: 4.9944e-05 - accuracy: 1.0000 - val_loss: 4.3283e-05 - val_accuracy: 1.0000\n",
      "Epoch 6/10\n",
      "787/787 [==============================] - 305s 387ms/step - loss: 3.4241e-05 - accuracy: 1.0000 - val_loss: 3.0095e-05 - val_accuracy: 1.0000\n",
      "Epoch 7/10\n",
      "787/787 [==============================] - 1839s 2s/step - loss: 2.3493e-05 - accuracy: 1.0000 - val_loss: 2.1364e-05 - val_accuracy: 1.0000\n",
      "Epoch 8/10\n",
      "787/787 [==============================] - 329s 418ms/step - loss: 1.6563e-05 - accuracy: 1.0000 - val_loss: 1.5218e-05 - val_accuracy: 1.0000\n",
      "Epoch 9/10\n",
      "787/787 [==============================] - 325s 412ms/step - loss: 1.1724e-05 - accuracy: 1.0000 - val_loss: 1.0903e-05 - val_accuracy: 1.0000\n",
      "Epoch 10/10\n",
      "787/787 [==============================] - 318s 405ms/step - loss: 8.2137e-06 - accuracy: 1.0000 - val_loss: 7.8372e-06 - val_accuracy: 1.0000\n"
     ]
    }
   ],
   "source": [
    "history = classifier.fit(train_data_gen, epochs=10,\n",
    "validation_data= val_data_gen,)"
   ]
  },
  {
   "cell_type": "code",
   "execution_count": 26,
   "id": "01d63efc",
   "metadata": {},
   "outputs": [],
   "source": [
    "classifier.save('plant.h5')"
   ]
  },
  {
   "cell_type": "code",
   "execution_count": 27,
   "id": "493a7369",
   "metadata": {},
   "outputs": [],
   "source": [
    "#pip install Pillow"
   ]
  },
  {
   "cell_type": "code",
   "execution_count": 28,
   "id": "3d34d3e5",
   "metadata": {},
   "outputs": [],
   "source": [
    "import numpy as np"
   ]
  },
  {
   "cell_type": "code",
   "execution_count": 29,
   "id": "ef5957ef",
   "metadata": {},
   "outputs": [
    {
     "name": "stdout",
     "output_type": "stream",
     "text": [
      "369/369 - 105s\n"
     ]
    }
   ],
   "source": [
    "y=np.concatenate([val_data_gen.next()[1] for i in range(val_data_gen.__len__())])\n",
    "true_labels=np.argmax(y, axis=-1)\n",
    "prediction= classifier.predict(val_data_gen, verbose=2)\n",
    "prediction=np.argmax(prediction, axis=-1)"
   ]
  },
  {
   "cell_type": "code",
   "execution_count": 30,
   "id": "37c236dc",
   "metadata": {},
   "outputs": [],
   "source": [
    "import matplotlib.pyplot as plt"
   ]
  },
  {
   "cell_type": "code",
   "execution_count": 31,
   "id": "21ec7742",
   "metadata": {},
   "outputs": [],
   "source": [
    "def plot_confusion_matrix(cm, classes,\n",
    "                          normalize=False,\n",
    "                          title='Confusion matrix',\n",
    "                          cmap=plt.cm.Blues):\n",
    "    \"\"\"\n",
    "    This function prints and plots the confusion matrix.\n",
    "    Normalization can be applied by setting `normalize=True`.\n",
    "    \"\"\"\n",
    "    plt.imshow(cm, interpolation='nearest', cmap=cmap)\n",
    "    plt.title(title)\n",
    "    plt.colorbar()\n",
    "    tick_marks = np.arange(len(classes))\n",
    "    plt.xticks(tick_marks, classes, rotation=85)\n",
    "    plt.yticks(tick_marks, classes)\n",
    "\n",
    "    if normalize:\n",
    "        cm = cm.astype('float') / cm.sum(axis=1)[:, np.newaxis]\n",
    "        print(\"Normalized confusion matrix\")\n",
    "    else:\n",
    "        print('Confusion matrix, without normalization')\n",
    "\n",
    "    print(cm)\n",
    "\n",
    "    thresh = cm.max() / 2.\n",
    "    for i, j in itertools.product(range(cm.shape[0]), range(cm.shape[1])):\n",
    "        plt.text(j, i, cm[i, j],\n",
    "            horizontalalignment=\"center\",\n",
    "            color=\"white\" if cm[i, j] > thresh else \"black\")\n",
    "\n",
    "    plt.tight_layout()\n",
    "    plt.ylabel('True label')\n",
    "    plt.xlabel('Predicted label')"
   ]
  },
  {
   "cell_type": "code",
   "execution_count": 20,
   "id": "b77a6579",
   "metadata": {},
   "outputs": [],
   "source": [
    "from sklearn.metrics import confusion_matrix\n",
    "import itertools\n",
    "import matplotlib.pyplot as plt\n",
    "cm = confusion_matrix(y_true=true_labels, y_pred=prediction)"
   ]
  },
  {
   "cell_type": "code",
   "execution_count": 32,
   "id": "ed4e4bc5",
   "metadata": {},
   "outputs": [],
   "source": [
    "cm_plot_labels = [\"Hollow heart of potato\",\"potato leaf roll virus\",\"Potato___Early_blight\",\"scab of potato\",\"Soft rot of potato\"]"
   ]
  },
  {
   "cell_type": "code",
   "execution_count": 33,
   "id": "243d50d8",
   "metadata": {},
   "outputs": [
    {
     "name": "stdout",
     "output_type": "stream",
     "text": [
      "Confusion matrix, without normalization\n",
      "[[160   0   0   0   0]\n",
      " [  0 100   0   0   0]\n",
      " [  0   0 116   0   0]\n",
      " [  0   0   0 220   0]\n",
      " [  0   0   0   0 141]]\n",
      "Accuracy: 1.000\n",
      "Precision: 1.000\n",
      "Recall: 1.000\n",
      "F-Measure: 1.000\n"
     ]
    },
    {
     "data": {
      "image/png": "[encoded data removed]",
      "text/plain": [
       "<Figure size 432x288 with 2 Axes>"
      ]
     },
     "metadata": {
      "needs_background": "light"
     },
     "output_type": "display_data"
    }
   ],
   "source": [
    "plot_confusion_matrix(cm=cm, classes=cm_plot_labels, title='Confusion Matrix')\n",
    "from sklearn.metrics import accuracy_score\n",
    "acc=accuracy_score(true_labels,prediction) \n",
    "print('Accuracy: %.3f' % acc)\n",
    "from sklearn.metrics import precision_score\n",
    "precision = precision_score(true_labels,prediction,labels=[1,2], average='micro')\n",
    "print('Precision: %.3f' % precision)\n",
    "from sklearn.metrics import recall_score\n",
    "recall = recall_score(true_labels,prediction, average='micro')\n",
    "print('Recall: %.3f' % recall)\n",
    "from sklearn.metrics import f1_score\n",
    "score = f1_score(true_labels,prediction, average='micro')\n",
    "print('F-Measure: %.3f' % score)"
   ]
  },
  {
   "cell_type": "code",
   "execution_count": 25,
   "id": "7311748f",
   "metadata": {},
   "outputs": [],
   "source": [
    "from PIL import Image\n",
    "import numpy as np\n",
    "import matplotlib.pyplot as plt\n",
    "def test_on_img(img):\n",
    "    data=[]\n",
    "    image = Image.open(img)\n",
    "    image = image.resize((224,224))\n",
    "    data.append(np.array(image))\n",
    "    X_test=np.array(data)\n",
    "    Y_pred = classifier.predict_classes(X_test)\n",
    "    return image,Y_pred"
   ]
  },
  {
   "cell_type": "code",
   "execution_count": null,
   "id": "9a0869a2",
   "metadata": {},
   "outputs": [],
   "source": []
  }
 ],
 "metadata": {
  "kernelspec": {
   "display_name": "Python 3",
   "language": "python",
   "name": "python3"
  },
  "language_info": {
   "codemirror_mode": {
    "name": "ipython",
    "version": 3
   },
   "file_extension": ".py",
   "mimetype": "text/x-python",
   "name": "python",
   "nbconvert_exporter": "python",
   "pygments_lexer": "ipython3",
   "version": "3.8.8"
  }
 },
 "nbformat": 4,
 "nbformat_minor": 5
}
